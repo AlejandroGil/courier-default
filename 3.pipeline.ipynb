{
 "cells": [
  {
   "cell_type": "markdown",
   "metadata": {},
   "source": [
    "## Lab #3 - Build a pipeline following MLOps best practices\n",
    "\n",
    "Now we will assume that we are working as DevOps Engineers (or Infra or Operations alternatively).\n",
    "\n",
    "Our data scientists have provided us the workflow Cloud Formation template in YAML format for running a new model in production, and we need to build the pipeline for doing code control, versioning, audit, testing, and monitoring of the models in production."
   ]
  },
  {
   "cell_type": "markdown",
   "metadata": {},
   "source": [
    "This time, we will create the pipeline using AWS CodePipeline directly with the console.\n",
    "\n",
    "*Note you could be using other tools for this like Jenkins or similar, or you could also use CodePipeline but build the pipelines through infra-as-code, or CLI commands, the CDK instead.*"
   ]
  },
  {
   "cell_type": "markdown",
   "metadata": {},
   "source": [
    "**1. Go to the [AWS CodePipeline console](https://eu-west-1.console.aws.amazon.com/codesuite/codepipeline/pipelines)**"
   ]
  },
  {
   "cell_type": "markdown",
   "metadata": {},
   "source": [
    "**2. Click on \"Create pipeline\"**"
   ]
  },
  {
   "cell_type": "code",
   "execution_count": null,
   "metadata": {},
   "outputs": [],
   "source": []
  }
 ],
 "metadata": {
  "kernelspec": {
   "display_name": "conda_python3",
   "language": "python",
   "name": "conda_python3"
  },
  "language_info": {
   "codemirror_mode": {
    "name": "ipython",
    "version": 3
   },
   "file_extension": ".py",
   "mimetype": "text/x-python",
   "name": "python",
   "nbconvert_exporter": "python",
   "pygments_lexer": "ipython3",
   "version": "3.6.10"
  }
 },
 "nbformat": 4,
 "nbformat_minor": 4
}
